{
  "nbformat": 4,
  "nbformat_minor": 0,
  "metadata": {
    "colab": {
      "provenance": []
    },
    "kernelspec": {
      "name": "python3",
      "display_name": "Python 3"
    },
    "language_info": {
      "name": "python"
    }
  },
  "cells": [
    {
      "cell_type": "markdown",
      "source": [
        "# **Churn Prediction**"
      ],
      "metadata": {
        "id": "ClJgx_Kt0sS9"
      }
    },
    {
      "cell_type": "markdown",
      "source": [
        "I have used a dataset from **Kaggle**, which is the **Orange Telecom's Churn Dataset**, which consists of cleaned customer activity data (features), along with a churn label specifying whether a customer canceled the subscription"
      ],
      "metadata": {
        "id": "msQgvF8vzaHq"
      }
    },
    {
      "cell_type": "code",
      "execution_count": 1,
      "metadata": {
        "colab": {
          "base_uri": "https://localhost:8080/"
        },
        "id": "Q0Gvt2m4yTem",
        "outputId": "66838898-e08e-41c6-ed85-47b3b3516a17"
      },
      "outputs": [
        {
          "output_type": "stream",
          "name": "stdout",
          "text": [
            "Dataset Info:\n",
            "<class 'pandas.core.frame.DataFrame'>\n",
            "RangeIndex: 2666 entries, 0 to 2665\n",
            "Data columns (total 20 columns):\n",
            " #   Column                  Non-Null Count  Dtype  \n",
            "---  ------                  --------------  -----  \n",
            " 0   State                   2666 non-null   object \n",
            " 1   Account length          2666 non-null   int64  \n",
            " 2   Area code               2666 non-null   int64  \n",
            " 3   International plan      2666 non-null   object \n",
            " 4   Voice mail plan         2666 non-null   object \n",
            " 5   Number vmail messages   2666 non-null   int64  \n",
            " 6   Total day minutes       2666 non-null   float64\n",
            " 7   Total day calls         2666 non-null   int64  \n",
            " 8   Total day charge        2666 non-null   float64\n",
            " 9   Total eve minutes       2666 non-null   float64\n",
            " 10  Total eve calls         2666 non-null   int64  \n",
            " 11  Total eve charge        2666 non-null   float64\n",
            " 12  Total night minutes     2666 non-null   float64\n",
            " 13  Total night calls       2666 non-null   int64  \n",
            " 14  Total night charge      2666 non-null   float64\n",
            " 15  Total intl minutes      2666 non-null   float64\n",
            " 16  Total intl calls        2666 non-null   int64  \n",
            " 17  Total intl charge       2666 non-null   float64\n",
            " 18  Customer service calls  2666 non-null   int64  \n",
            " 19  Churn                   2666 non-null   bool   \n",
            "dtypes: bool(1), float64(8), int64(8), object(3)\n",
            "memory usage: 398.5+ KB\n"
          ]
        }
      ],
      "source": [
        "import pandas as pd\n",
        "\n",
        "# Load the dataset (make sure the correct path is used)\n",
        "df = pd.read_csv('/content/churn-bigml-80.csv')\n",
        "\n",
        "# Display basic info about the dataset\n",
        "print(\"Dataset Info:\")\n",
        "df.info()\n"
      ]
    },
    {
      "cell_type": "code",
      "source": [
        "\n",
        "# Show summary statistics for numeric features\n",
        "print(\"\\nSummary Statistics:\")\n",
        "print(df.describe())"
      ],
      "metadata": {
        "colab": {
          "base_uri": "https://localhost:8080/"
        },
        "id": "moS0wdQHy66F",
        "outputId": "d4b6d51d-485a-4072-ff4f-919682447c9d"
      },
      "execution_count": 2,
      "outputs": [
        {
          "output_type": "stream",
          "name": "stdout",
          "text": [
            "\n",
            "Summary Statistics:\n",
            "       Account length    Area code  Number vmail messages  Total day minutes  \\\n",
            "count     2666.000000  2666.000000            2666.000000         2666.00000   \n",
            "mean       100.620405   437.438860               8.021755          179.48162   \n",
            "std         39.563974    42.521018              13.612277           54.21035   \n",
            "min          1.000000   408.000000               0.000000            0.00000   \n",
            "25%         73.000000   408.000000               0.000000          143.40000   \n",
            "50%        100.000000   415.000000               0.000000          179.95000   \n",
            "75%        127.000000   510.000000              19.000000          215.90000   \n",
            "max        243.000000   510.000000              50.000000          350.80000   \n",
            "\n",
            "       Total day calls  Total day charge  Total eve minutes  Total eve calls  \\\n",
            "count      2666.000000       2666.000000        2666.000000      2666.000000   \n",
            "mean        100.310203         30.512404         200.386159       100.023631   \n",
            "std          19.988162          9.215733          50.951515        20.161445   \n",
            "min           0.000000          0.000000           0.000000         0.000000   \n",
            "25%          87.000000         24.380000         165.300000        87.000000   \n",
            "50%         101.000000         30.590000         200.900000       100.000000   \n",
            "75%         114.000000         36.700000         235.100000       114.000000   \n",
            "max         160.000000         59.640000         363.700000       170.000000   \n",
            "\n",
            "       Total eve charge  Total night minutes  Total night calls  \\\n",
            "count       2666.000000          2666.000000        2666.000000   \n",
            "mean          17.033072           201.168942         100.106152   \n",
            "std            4.330864            50.780323          19.418459   \n",
            "min            0.000000            43.700000          33.000000   \n",
            "25%           14.050000           166.925000          87.000000   \n",
            "50%           17.080000           201.150000         100.000000   \n",
            "75%           19.980000           236.475000         113.000000   \n",
            "max           30.910000           395.000000         166.000000   \n",
            "\n",
            "       Total night charge  Total intl minutes  Total intl calls  \\\n",
            "count         2666.000000         2666.000000       2666.000000   \n",
            "mean             9.052689           10.237022          4.467367   \n",
            "std              2.285120            2.788349          2.456195   \n",
            "min              1.970000            0.000000          0.000000   \n",
            "25%              7.512500            8.500000          3.000000   \n",
            "50%              9.050000           10.200000          4.000000   \n",
            "75%             10.640000           12.100000          6.000000   \n",
            "max             17.770000           20.000000         20.000000   \n",
            "\n",
            "       Total intl charge  Customer service calls  \n",
            "count        2666.000000             2666.000000  \n",
            "mean            2.764490                1.562641  \n",
            "std             0.752812                1.311236  \n",
            "min             0.000000                0.000000  \n",
            "25%             2.300000                1.000000  \n",
            "50%             2.750000                1.000000  \n",
            "75%             3.270000                2.000000  \n",
            "max             5.400000                9.000000  \n"
          ]
        }
      ]
    },
    {
      "cell_type": "code",
      "source": [
        "# Check the distribution of the target variable (Churn)\n",
        "print(\"\\nChurn Distribution:\")\n",
        "print(df['Churn'].value_counts())\n"
      ],
      "metadata": {
        "colab": {
          "base_uri": "https://localhost:8080/"
        },
        "id": "ZWEc70z7zDsw",
        "outputId": "b7f034da-1f1b-44c2-ee26-0e4d56df5ffb"
      },
      "execution_count": 4,
      "outputs": [
        {
          "output_type": "stream",
          "name": "stdout",
          "text": [
            "\n",
            "Churn Distribution:\n",
            "Churn\n",
            "False    2278\n",
            "True      388\n",
            "Name: count, dtype: int64\n"
          ]
        }
      ]
    },
    {
      "cell_type": "code",
      "source": [
        "from sklearn.model_selection import train_test_split\n",
        "from sklearn.preprocessing import StandardScaler\n",
        "from sklearn.preprocessing import LabelEncoder\n",
        "\n",
        "# 1. Handle categorical features\n",
        "df['International plan'] = LabelEncoder().fit_transform(df['International plan'])\n",
        "df['Voice mail plan'] = LabelEncoder().fit_transform(df['Voice mail plan'])\n",
        "df['State'] = LabelEncoder().fit_transform(df['State'])\n",
        "\n",
        "# 2. Feature Scaling for numerical features\n",
        "scaler = StandardScaler()\n",
        "scaled_features = ['Account length', 'Number vmail messages', 'Total day minutes',\n",
        "                   'Total day calls', 'Total day charge', 'Total eve minutes',\n",
        "                   'Total eve calls', 'Total eve charge', 'Total night minutes',\n",
        "                   'Total night calls', 'Total night charge', 'Total intl minutes',\n",
        "                   'Total intl calls', 'Total intl charge', 'Customer service calls']\n",
        "df[scaled_features] = scaler.fit_transform(df[scaled_features])\n",
        "\n",
        "# 3. Split the data into features (X) and target (y)\n",
        "X = df.drop('Churn', axis=1)\n",
        "y = df['Churn']\n",
        "\n",
        "# Split the data into training and testing sets (80-20 split)\n",
        "X_train, X_test, y_train, y_test = train_test_split(X, y, test_size=0.2, random_state=42, stratify=y)\n",
        "\n",
        "print(f\"Training data size: {X_train.shape[0]}, Testing data size: {X_test.shape[0]}\")"
      ],
      "metadata": {
        "colab": {
          "base_uri": "https://localhost:8080/"
        },
        "id": "e2FnLU6uzEar",
        "outputId": "bf597608-c88f-4642-d2ce-8ee288c1889c"
      },
      "execution_count": 6,
      "outputs": [
        {
          "output_type": "stream",
          "name": "stdout",
          "text": [
            "Training data size: 2132, Testing data size: 534\n"
          ]
        }
      ]
    },
    {
      "cell_type": "markdown",
      "source": [
        "## Used Random Forest model, and perform hyperparameter tuning with RandomizedSearchCV for efficient tuning"
      ],
      "metadata": {
        "id": "yE8azJSa0fzn"
      }
    },
    {
      "cell_type": "code",
      "source": [
        "from sklearn.ensemble import RandomForestClassifier\n",
        "from sklearn.model_selection import RandomizedSearchCV\n",
        "from sklearn.metrics import classification_report, confusion_matrix, roc_auc_score\n",
        "\n",
        "# Define the model\n",
        "rf_model = RandomForestClassifier(random_state=42)\n",
        "\n",
        "# Hyperparameter tuning with RandomizedSearchCV\n",
        "param_grid = {\n",
        "    'n_estimators': [100, 200, 300],\n",
        "    'max_depth': [10, 20, 30, None],\n",
        "    'min_samples_split': [2, 5, 10],\n",
        "    'min_samples_leaf': [1, 2, 4],\n",
        "    'bootstrap': [True, False]\n",
        "}\n",
        "\n",
        "# Randomized search for hyperparameter tuning\n",
        "random_search = RandomizedSearchCV(estimator=rf_model, param_distributions=param_grid,\n",
        "                                   n_iter=10, cv=5, verbose=2, random_state=42, n_jobs=-1)\n",
        "\n",
        "# Train the model\n",
        "random_search.fit(X_train, y_train)\n",
        "\n",
        "# Get the best model\n",
        "best_rf_model = random_search.best_estimator_\n",
        "\n",
        "# Evaluate the model on the test set\n",
        "y_pred = best_rf_model.predict(X_test)\n",
        "\n",
        "# Performance metrics\n",
        "print(\"\\nClassification Report:\")\n",
        "print(classification_report(y_test, y_pred))\n",
        "\n",
        "print(\"\\nConfusion Matrix:\")\n",
        "print(confusion_matrix(y_test, y_pred))\n",
        "\n",
        "# ROC AUC Score\n",
        "roc_auc = roc_auc_score(y_test, y_pred)\n",
        "print(f\"\\nROC AUC Score: {roc_auc:.4f}\")\n"
      ],
      "metadata": {
        "colab": {
          "base_uri": "https://localhost:8080/"
        },
        "id": "PFVmVMLzzKkw",
        "outputId": "9de3a417-12ed-4810-a631-8302f95a0140"
      },
      "execution_count": 7,
      "outputs": [
        {
          "output_type": "stream",
          "name": "stdout",
          "text": [
            "Fitting 5 folds for each of 10 candidates, totalling 50 fits\n",
            "\n",
            "Classification Report:\n",
            "              precision    recall  f1-score   support\n",
            "\n",
            "       False       0.95      0.99      0.97       456\n",
            "        True       0.95      0.69      0.80        78\n",
            "\n",
            "    accuracy                           0.95       534\n",
            "   macro avg       0.95      0.84      0.89       534\n",
            "weighted avg       0.95      0.95      0.95       534\n",
            "\n",
            "\n",
            "Confusion Matrix:\n",
            "[[453   3]\n",
            " [ 24  54]]\n",
            "\n",
            "ROC AUC Score: 0.8429\n"
          ]
        }
      ]
    },
    {
      "cell_type": "code",
      "source": [
        "from sklearn.metrics import precision_recall_curve, auc\n",
        "\n",
        "# Precision-Recall curve\n",
        "precision, recall, thresholds = precision_recall_curve(y_test, best_rf_model.predict_proba(X_test)[:, 1])\n",
        "pr_auc = auc(recall, precision)\n",
        "\n",
        "# Plot Precision-Recall Curve\n",
        "plt.figure(figsize=(8, 6))\n",
        "plt.plot(recall, precision, color='blue', label=f'PR AUC = {pr_auc:.4f}')\n",
        "plt.title(\"Precision-Recall Curve\")\n",
        "plt.xlabel(\"Recall\")\n",
        "plt.ylabel(\"Precision\")\n",
        "plt.legend()\n",
        "plt.show()\n",
        "\n",
        "# Lift Chart (model performance)\n",
        "# The 'Lift' measures how much better the model is at predicting high-risk customers compared to random guessing.\n",
        "# We'll calculate Lift at different thresholds.\n",
        "lift_values = []\n",
        "for threshold in thresholds:\n",
        "    y_pred_class = (best_rf_model.predict_proba(X_test)[:, 1] >= threshold).astype(int)\n",
        "    lift = (y_pred_class == 1).sum() / len(y_pred_class)\n",
        "    lift_values.append(lift)\n",
        "\n",
        "# Plot Lift Chart\n",
        "plt.figure(figsize=(8, 6))\n",
        "plt.plot(thresholds, lift_values, color='green')\n",
        "plt.title(\"Lift Chart\")\n",
        "plt.xlabel(\"Threshold\")\n",
        "plt.ylabel(\"Lift\")\n",
        "plt.show()\n"
      ],
      "metadata": {
        "colab": {
          "base_uri": "https://localhost:8080/",
          "height": 1000
        },
        "id": "UBkPAxOIzQgd",
        "outputId": "9b4ade1f-9f8d-4261-f454-c0b9a198288e"
      },
      "execution_count": 8,
      "outputs": [
        {
          "output_type": "display_data",
          "data": {
            "text/plain": [
              "<Figure size 800x600 with 1 Axes>"
            ],
            "image/png": "[encoded data removed]"
          },
          "metadata": {}
        },
        {
          "output_type": "display_data",
          "data": {
            "text/plain": [
              "<Figure size 800x600 with 1 Axes>"
            ],
            "image/png": "[encoded data removed]"
          },
          "metadata": {}
        }
      ]
    },
    {
      "cell_type": "markdown",
      "source": [
        "# Deployment"
      ],
      "metadata": {
        "id": "L8z80e0v0IV4"
      }
    },
    {
      "cell_type": "code",
      "source": [
        "import joblib\n",
        "\n",
        "# Save the trained model to a file\n",
        "joblib.dump(best_rf_model, 'rf_churn_predictor_model.joblib')\n",
        "\n",
        "print(\"Model saved as 'rf_churn_predictor_model.joblib'\")\n"
      ],
      "metadata": {
        "colab": {
          "base_uri": "https://localhost:8080/"
        },
        "id": "Nk4Xgm3G0HtG",
        "outputId": "26cf8161-131d-476f-b2aa-68a1a4180529"
      },
      "execution_count": 9,
      "outputs": [
        {
          "output_type": "stream",
          "name": "stdout",
          "text": [
            "Model saved as 'rf_churn_predictor_model.joblib'\n"
          ]
        }
      ]
    },
    {
      "cell_type": "markdown",
      "source": [
        "**After the model is saved as a serialized file, it can be served using an API.**"
      ],
      "metadata": {
        "id": "OhyUsKHs0RyA"
      }
    },
    {
      "cell_type": "code",
      "source": [],
      "metadata": {
        "id": "JpT6zVKw0BQn"
      },
      "execution_count": null,
      "outputs": []
    }
  ]
}